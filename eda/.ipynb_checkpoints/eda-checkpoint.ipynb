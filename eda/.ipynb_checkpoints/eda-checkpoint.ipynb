{
 "cells": [
  {
   "cell_type": "markdown",
   "metadata": {},
   "source": [
    "### **ANÁLISIS EXPLORATORIO DE LOS DATOS**"
   ]
  },
  {
   "cell_type": "code",
   "execution_count": 48,
   "metadata": {},
   "outputs": [],
   "source": [
    "import sqlite3\n",
    "import pandas as pd"
   ]
  },
  {
   "cell_type": "code",
   "execution_count": 53,
   "metadata": {},
   "outputs": [
    {
     "name": "stdout",
     "output_type": "stream",
     "text": [
      "Tablas en la base de datos:\n",
      "               name\n",
      "0           apicall\n",
      "1          commerce\n",
      "2  commission_table\n"
     ]
    }
   ],
   "source": [
    "# Conectar a la base de datos (reemplaza 'nombre_base_de_datos.db' con tu archivo .sqlite)\n",
    "conexion = sqlite3.connect('C:/Users/Usuario/Documents/Bancolombia/Prueba_tecnica_ecosistemas/Helper/BD/database.sqlite')\n",
    "\n",
    "# Crear un cursor para ejecutar consultas\n",
    "cursor = conexion.cursor()\n",
    "\n",
    "# Obtener la lista de tablas en la base de datos\n",
    "query_tablas = \"SELECT name FROM sqlite_master WHERE type='table';\"\n",
    "tablas = pd.read_sql_query(query_tablas, conexion)\n",
    "\n",
    "# Mostrar las tablas encontradas\n",
    "print(\"Tablas en la base de datos:\")\n",
    "print(tablas)\n",
    "\n",
    "# Seleccionar una tabla específica,\n",
    "nombre_tabla_1 = tablas['name'][0]  # Cambia el índice según la tabla que desees explorar\n",
    "\n",
    "# Leer los datos de la tabla seleccionada en un DataFrame\n",
    "query_datos = f\"SELECT * FROM {nombre_tabla_1};\"\n",
    "df_apicall = pd.read_sql_query(query_datos, conexion)\n",
    "\n",
    "# Seleccionar una tabla específica,\n",
    "nombre_tabla_2 = tablas['name'][0]  # Cambia el índice según la tabla que desees explorar\n",
    "\n",
    "# Leer los datos de la tabla seleccionada en un DataFrame\n",
    "query_datos = f\"SELECT * FROM {nombre_tabla_2};\"\n",
    "df_commerce = pd.read_sql_query(query_datos, conexion)\n",
    "\n",
    "# Cerrar la conexión\n",
    "#conexion.close()\n"
   ]
  },
  {
   "cell_type": "code",
   "execution_count": 36,
   "metadata": {},
   "outputs": [],
   "source": [
    "query_datos = f\"SELECT strftime('%m', date_api_call), date_api_call FROM {nombre_tabla_1} LIMIT 6;\"\n",
    "df = pd.read_sql_query(query_datos, conexion)"
   ]
  },
  {
   "cell_type": "code",
   "execution_count": 38,
   "metadata": {},
   "outputs": [
    {
     "data": {
      "text/html": [
       "<div>\n",
       "<style scoped>\n",
       "    .dataframe tbody tr th:only-of-type {\n",
       "        vertical-align: middle;\n",
       "    }\n",
       "\n",
       "    .dataframe tbody tr th {\n",
       "        vertical-align: top;\n",
       "    }\n",
       "\n",
       "    .dataframe thead th {\n",
       "        text-align: right;\n",
       "    }\n",
       "</style>\n",
       "<table border=\"1\" class=\"dataframe\">\n",
       "  <thead>\n",
       "    <tr style=\"text-align: right;\">\n",
       "      <th></th>\n",
       "      <th>strftime('%m', date_api_call)</th>\n",
       "      <th>date_api_call</th>\n",
       "    </tr>\n",
       "  </thead>\n",
       "  <tbody>\n",
       "    <tr>\n",
       "      <th>0</th>\n",
       "      <td>10</td>\n",
       "      <td>2024-10-21 18:31:16</td>\n",
       "    </tr>\n",
       "    <tr>\n",
       "      <th>1</th>\n",
       "      <td>10</td>\n",
       "      <td>2024-10-13 17:12:08</td>\n",
       "    </tr>\n",
       "    <tr>\n",
       "      <th>2</th>\n",
       "      <td>12</td>\n",
       "      <td>2024-12-23 01:02:06</td>\n",
       "    </tr>\n",
       "    <tr>\n",
       "      <th>3</th>\n",
       "      <td>07</td>\n",
       "      <td>2024-07-11 07:24:35</td>\n",
       "    </tr>\n",
       "    <tr>\n",
       "      <th>4</th>\n",
       "      <td>06</td>\n",
       "      <td>2024-06-28 11:43:52</td>\n",
       "    </tr>\n",
       "    <tr>\n",
       "      <th>5</th>\n",
       "      <td>02</td>\n",
       "      <td>2024-02-09 14:04:58</td>\n",
       "    </tr>\n",
       "  </tbody>\n",
       "</table>\n",
       "</div>"
      ],
      "text/plain": [
       "  strftime('%m', date_api_call)        date_api_call\n",
       "0                            10  2024-10-21 18:31:16\n",
       "1                            10  2024-10-13 17:12:08\n",
       "2                            12  2024-12-23 01:02:06\n",
       "3                            07  2024-07-11 07:24:35\n",
       "4                            06  2024-06-28 11:43:52\n",
       "5                            02  2024-02-09 14:04:58"
      ]
     },
     "execution_count": 38,
     "metadata": {},
     "output_type": "execute_result"
    }
   ],
   "source": [
    "df"
   ]
  },
  {
   "cell_type": "code",
   "execution_count": 39,
   "metadata": {},
   "outputs": [
    {
     "data": {
      "text/html": [
       "<div>\n",
       "<style scoped>\n",
       "    .dataframe tbody tr th:only-of-type {\n",
       "        vertical-align: middle;\n",
       "    }\n",
       "\n",
       "    .dataframe tbody tr th {\n",
       "        vertical-align: top;\n",
       "    }\n",
       "\n",
       "    .dataframe thead th {\n",
       "        text-align: right;\n",
       "    }\n",
       "</style>\n",
       "<table border=\"1\" class=\"dataframe\">\n",
       "  <thead>\n",
       "    <tr style=\"text-align: right;\">\n",
       "      <th></th>\n",
       "      <th>date_api_call</th>\n",
       "      <th>commerce_id</th>\n",
       "      <th>ask_status</th>\n",
       "      <th>is_related</th>\n",
       "    </tr>\n",
       "  </thead>\n",
       "  <tbody>\n",
       "    <tr>\n",
       "      <th>0</th>\n",
       "      <td>2024-10-21 18:31:16</td>\n",
       "      <td>GdEQ-MGb7-LXHa-y6cd</td>\n",
       "      <td>Successful</td>\n",
       "      <td>1.0</td>\n",
       "    </tr>\n",
       "    <tr>\n",
       "      <th>1</th>\n",
       "      <td>2024-10-13 17:12:08</td>\n",
       "      <td>GdEQ-MGb7-LXHa-y6cd</td>\n",
       "      <td>Successful</td>\n",
       "      <td>1.0</td>\n",
       "    </tr>\n",
       "    <tr>\n",
       "      <th>2</th>\n",
       "      <td>2024-12-23 01:02:06</td>\n",
       "      <td>Rh2k-J1o7-zndZ-cOo8</td>\n",
       "      <td>Successful</td>\n",
       "      <td>1.0</td>\n",
       "    </tr>\n",
       "    <tr>\n",
       "      <th>3</th>\n",
       "      <td>2024-07-11 07:24:35</td>\n",
       "      <td>GdEQ-MGb7-LXHa-y6cd</td>\n",
       "      <td>Successful</td>\n",
       "      <td>1.0</td>\n",
       "    </tr>\n",
       "    <tr>\n",
       "      <th>4</th>\n",
       "      <td>2024-06-28 11:43:52</td>\n",
       "      <td>Rh2k-J1o7-zndZ-cOo8</td>\n",
       "      <td>Successful</td>\n",
       "      <td>1.0</td>\n",
       "    </tr>\n",
       "  </tbody>\n",
       "</table>\n",
       "</div>"
      ],
      "text/plain": [
       "         date_api_call          commerce_id  ask_status  is_related\n",
       "0  2024-10-21 18:31:16  GdEQ-MGb7-LXHa-y6cd  Successful         1.0\n",
       "1  2024-10-13 17:12:08  GdEQ-MGb7-LXHa-y6cd  Successful         1.0\n",
       "2  2024-12-23 01:02:06  Rh2k-J1o7-zndZ-cOo8  Successful         1.0\n",
       "3  2024-07-11 07:24:35  GdEQ-MGb7-LXHa-y6cd  Successful         1.0\n",
       "4  2024-06-28 11:43:52  Rh2k-J1o7-zndZ-cOo8  Successful         1.0"
      ]
     },
     "execution_count": 39,
     "metadata": {},
     "output_type": "execute_result"
    }
   ],
   "source": [
    "df_apicall.head()"
   ]
  },
  {
   "cell_type": "code",
   "execution_count": 40,
   "metadata": {},
   "outputs": [
    {
     "data": {
      "text/plain": [
       "commerce_id\n",
       "3VYd-4lzT-mTC3-DQN5    300512\n",
       "KaSn-4LHo-m6vC-I4PU    300100\n",
       "Vj9W-c4Pm-ja0X-fC1C    299955\n",
       "Rh2k-J1o7-zndZ-cOo8    299781\n",
       "GdEQ-MGb7-LXHa-y6cd    299652\n",
       "Name: count, dtype: int64"
      ]
     },
     "execution_count": 40,
     "metadata": {},
     "output_type": "execute_result"
    }
   ],
   "source": [
    "df_apicall['commerce_id'].value_counts()"
   ]
  },
  {
   "cell_type": "code",
   "execution_count": 41,
   "metadata": {},
   "outputs": [],
   "source": [
    "df_grouped = df_apicall.groupby(['commerce_id', 'ask_status']).size().unstack(fill_value=0)"
   ]
  },
  {
   "cell_type": "code",
   "execution_count": 42,
   "metadata": {},
   "outputs": [
    {
     "data": {
      "text/html": [
       "<div>\n",
       "<style scoped>\n",
       "    .dataframe tbody tr th:only-of-type {\n",
       "        vertical-align: middle;\n",
       "    }\n",
       "\n",
       "    .dataframe tbody tr th {\n",
       "        vertical-align: top;\n",
       "    }\n",
       "\n",
       "    .dataframe thead th {\n",
       "        text-align: right;\n",
       "    }\n",
       "</style>\n",
       "<table border=\"1\" class=\"dataframe\">\n",
       "  <thead>\n",
       "    <tr style=\"text-align: right;\">\n",
       "      <th>ask_status</th>\n",
       "      <th>Successful</th>\n",
       "      <th>Unsuccessful</th>\n",
       "    </tr>\n",
       "    <tr>\n",
       "      <th>commerce_id</th>\n",
       "      <th></th>\n",
       "      <th></th>\n",
       "    </tr>\n",
       "  </thead>\n",
       "  <tbody>\n",
       "    <tr>\n",
       "      <th>3VYd-4lzT-mTC3-DQN5</th>\n",
       "      <td>240591</td>\n",
       "      <td>59921</td>\n",
       "    </tr>\n",
       "    <tr>\n",
       "      <th>GdEQ-MGb7-LXHa-y6cd</th>\n",
       "      <td>239507</td>\n",
       "      <td>60145</td>\n",
       "    </tr>\n",
       "    <tr>\n",
       "      <th>KaSn-4LHo-m6vC-I4PU</th>\n",
       "      <td>240036</td>\n",
       "      <td>60064</td>\n",
       "    </tr>\n",
       "    <tr>\n",
       "      <th>Rh2k-J1o7-zndZ-cOo8</th>\n",
       "      <td>239976</td>\n",
       "      <td>59805</td>\n",
       "    </tr>\n",
       "    <tr>\n",
       "      <th>Vj9W-c4Pm-ja0X-fC1C</th>\n",
       "      <td>240385</td>\n",
       "      <td>59570</td>\n",
       "    </tr>\n",
       "  </tbody>\n",
       "</table>\n",
       "</div>"
      ],
      "text/plain": [
       "ask_status           Successful  Unsuccessful\n",
       "commerce_id                                  \n",
       "3VYd-4lzT-mTC3-DQN5      240591         59921\n",
       "GdEQ-MGb7-LXHa-y6cd      239507         60145\n",
       "KaSn-4LHo-m6vC-I4PU      240036         60064\n",
       "Rh2k-J1o7-zndZ-cOo8      239976         59805\n",
       "Vj9W-c4Pm-ja0X-fC1C      240385         59570"
      ]
     },
     "execution_count": 42,
     "metadata": {},
     "output_type": "execute_result"
    }
   ],
   "source": [
    "df_grouped"
   ]
  },
  {
   "cell_type": "code",
   "execution_count": 43,
   "metadata": {},
   "outputs": [
    {
     "data": {
      "text/plain": [
       "is_related\n",
       "1.0    800928\n",
       "0.0    399567\n",
       "Name: count, dtype: int64"
      ]
     },
     "execution_count": 43,
     "metadata": {},
     "output_type": "execute_result"
    }
   ],
   "source": [
    "df_apicall['is_related'].value_counts()"
   ]
  },
  {
   "cell_type": "code",
   "execution_count": 44,
   "metadata": {},
   "outputs": [
    {
     "data": {
      "text/plain": [
       "(1500000, 4)"
      ]
     },
     "execution_count": 44,
     "metadata": {},
     "output_type": "execute_result"
    }
   ],
   "source": [
    "df_apicall.shape"
   ]
  },
  {
   "cell_type": "code",
   "execution_count": 45,
   "metadata": {},
   "outputs": [
    {
     "data": {
      "text/html": [
       "<div>\n",
       "<style scoped>\n",
       "    .dataframe tbody tr th:only-of-type {\n",
       "        vertical-align: middle;\n",
       "    }\n",
       "\n",
       "    .dataframe tbody tr th {\n",
       "        vertical-align: top;\n",
       "    }\n",
       "\n",
       "    .dataframe thead th {\n",
       "        text-align: right;\n",
       "    }\n",
       "</style>\n",
       "<table border=\"1\" class=\"dataframe\">\n",
       "  <thead>\n",
       "    <tr style=\"text-align: right;\">\n",
       "      <th></th>\n",
       "      <th>date_api_call</th>\n",
       "      <th>commerce_id</th>\n",
       "      <th>ask_status</th>\n",
       "      <th>is_related</th>\n",
       "    </tr>\n",
       "  </thead>\n",
       "  <tbody>\n",
       "    <tr>\n",
       "      <th>0</th>\n",
       "      <td>2024-10-21 18:31:16</td>\n",
       "      <td>GdEQ-MGb7-LXHa-y6cd</td>\n",
       "      <td>Successful</td>\n",
       "      <td>1.0</td>\n",
       "    </tr>\n",
       "    <tr>\n",
       "      <th>1</th>\n",
       "      <td>2024-10-13 17:12:08</td>\n",
       "      <td>GdEQ-MGb7-LXHa-y6cd</td>\n",
       "      <td>Successful</td>\n",
       "      <td>1.0</td>\n",
       "    </tr>\n",
       "    <tr>\n",
       "      <th>2</th>\n",
       "      <td>2024-12-23 01:02:06</td>\n",
       "      <td>Rh2k-J1o7-zndZ-cOo8</td>\n",
       "      <td>Successful</td>\n",
       "      <td>1.0</td>\n",
       "    </tr>\n",
       "    <tr>\n",
       "      <th>3</th>\n",
       "      <td>2024-07-11 07:24:35</td>\n",
       "      <td>GdEQ-MGb7-LXHa-y6cd</td>\n",
       "      <td>Successful</td>\n",
       "      <td>1.0</td>\n",
       "    </tr>\n",
       "    <tr>\n",
       "      <th>4</th>\n",
       "      <td>2024-06-28 11:43:52</td>\n",
       "      <td>Rh2k-J1o7-zndZ-cOo8</td>\n",
       "      <td>Successful</td>\n",
       "      <td>1.0</td>\n",
       "    </tr>\n",
       "    <tr>\n",
       "      <th>...</th>\n",
       "      <td>...</td>\n",
       "      <td>...</td>\n",
       "      <td>...</td>\n",
       "      <td>...</td>\n",
       "    </tr>\n",
       "    <tr>\n",
       "      <th>1499995</th>\n",
       "      <td>2024-06-28 05:22:39</td>\n",
       "      <td>Vj9W-c4Pm-ja0X-fC1C</td>\n",
       "      <td>Unsuccessful</td>\n",
       "      <td>NaN</td>\n",
       "    </tr>\n",
       "    <tr>\n",
       "      <th>1499996</th>\n",
       "      <td>2024-02-15 16:19:05</td>\n",
       "      <td>3VYd-4lzT-mTC3-DQN5</td>\n",
       "      <td>Unsuccessful</td>\n",
       "      <td>NaN</td>\n",
       "    </tr>\n",
       "    <tr>\n",
       "      <th>1499997</th>\n",
       "      <td>2024-04-18 04:51:55</td>\n",
       "      <td>GdEQ-MGb7-LXHa-y6cd</td>\n",
       "      <td>Successful</td>\n",
       "      <td>1.0</td>\n",
       "    </tr>\n",
       "    <tr>\n",
       "      <th>1499998</th>\n",
       "      <td>2024-12-26 00:38:28</td>\n",
       "      <td>KaSn-4LHo-m6vC-I4PU</td>\n",
       "      <td>Successful</td>\n",
       "      <td>0.0</td>\n",
       "    </tr>\n",
       "    <tr>\n",
       "      <th>1499999</th>\n",
       "      <td>2024-10-26 14:39:50</td>\n",
       "      <td>Rh2k-J1o7-zndZ-cOo8</td>\n",
       "      <td>Successful</td>\n",
       "      <td>0.0</td>\n",
       "    </tr>\n",
       "  </tbody>\n",
       "</table>\n",
       "<p>1500000 rows × 4 columns</p>\n",
       "</div>"
      ],
      "text/plain": [
       "               date_api_call          commerce_id    ask_status  is_related\n",
       "0        2024-10-21 18:31:16  GdEQ-MGb7-LXHa-y6cd    Successful         1.0\n",
       "1        2024-10-13 17:12:08  GdEQ-MGb7-LXHa-y6cd    Successful         1.0\n",
       "2        2024-12-23 01:02:06  Rh2k-J1o7-zndZ-cOo8    Successful         1.0\n",
       "3        2024-07-11 07:24:35  GdEQ-MGb7-LXHa-y6cd    Successful         1.0\n",
       "4        2024-06-28 11:43:52  Rh2k-J1o7-zndZ-cOo8    Successful         1.0\n",
       "...                      ...                  ...           ...         ...\n",
       "1499995  2024-06-28 05:22:39  Vj9W-c4Pm-ja0X-fC1C  Unsuccessful         NaN\n",
       "1499996  2024-02-15 16:19:05  3VYd-4lzT-mTC3-DQN5  Unsuccessful         NaN\n",
       "1499997  2024-04-18 04:51:55  GdEQ-MGb7-LXHa-y6cd    Successful         1.0\n",
       "1499998  2024-12-26 00:38:28  KaSn-4LHo-m6vC-I4PU    Successful         0.0\n",
       "1499999  2024-10-26 14:39:50  Rh2k-J1o7-zndZ-cOo8    Successful         0.0\n",
       "\n",
       "[1500000 rows x 4 columns]"
      ]
     },
     "execution_count": 45,
     "metadata": {},
     "output_type": "execute_result"
    }
   ],
   "source": [
    "df_commerce"
   ]
  },
  {
   "cell_type": "markdown",
   "metadata": {},
   "source": [
    "## **Merge**"
   ]
  },
  {
   "cell_type": "code",
   "execution_count": 22,
   "metadata": {},
   "outputs": [],
   "source": [
    "merge = df_apicall.merge(df_commerce, on = 'commerce_id', how = 'left') "
   ]
  },
  {
   "cell_type": "code",
   "execution_count": 24,
   "metadata": {},
   "outputs": [],
   "source": [
    "# Conversion de tipo de datos\n",
    "merge['date_api_call'] = pd.to_datetime(merge['date_api_call'])\n",
    "merge['month'] = merge['date_api_call'].dt.month\n",
    "merge['year'] = merge['date_api_call'].dt.year"
   ]
  },
  {
   "cell_type": "code",
   "execution_count": 25,
   "metadata": {},
   "outputs": [
    {
     "name": "stdout",
     "output_type": "stream",
     "text": [
      "<class 'pandas.core.frame.DataFrame'>\n",
      "Int64Index: 1500000 entries, 0 to 1499999\n",
      "Data columns (total 10 columns):\n",
      " #   Column           Non-Null Count    Dtype         \n",
      "---  ------           --------------    -----         \n",
      " 0   date_api_call    1500000 non-null  datetime64[ns]\n",
      " 1   commerce_id      1500000 non-null  object        \n",
      " 2   ask_status       1500000 non-null  object        \n",
      " 3   is_related       1200495 non-null  float64       \n",
      " 4   commerce_nit     1500000 non-null  int64         \n",
      " 5   commerce_name    1500000 non-null  object        \n",
      " 6   commerce_status  1500000 non-null  object        \n",
      " 7   commerce_email   1500000 non-null  object        \n",
      " 8   month            1500000 non-null  int64         \n",
      " 9   year             1500000 non-null  int64         \n",
      "dtypes: datetime64[ns](1), float64(1), int64(3), object(5)\n",
      "memory usage: 125.9+ MB\n"
     ]
    }
   ],
   "source": [
    "merge.info()"
   ]
  },
  {
   "cell_type": "code",
   "execution_count": 26,
   "metadata": {},
   "outputs": [
    {
     "data": {
      "text/html": [
       "<div>\n",
       "<style scoped>\n",
       "    .dataframe tbody tr th:only-of-type {\n",
       "        vertical-align: middle;\n",
       "    }\n",
       "\n",
       "    .dataframe tbody tr th {\n",
       "        vertical-align: top;\n",
       "    }\n",
       "\n",
       "    .dataframe thead th {\n",
       "        text-align: right;\n",
       "    }\n",
       "</style>\n",
       "<table border=\"1\" class=\"dataframe\">\n",
       "  <thead>\n",
       "    <tr style=\"text-align: right;\">\n",
       "      <th></th>\n",
       "      <th>date_api_call</th>\n",
       "      <th>commerce_id</th>\n",
       "      <th>ask_status</th>\n",
       "      <th>is_related</th>\n",
       "      <th>commerce_nit</th>\n",
       "      <th>commerce_name</th>\n",
       "      <th>commerce_status</th>\n",
       "      <th>commerce_email</th>\n",
       "      <th>month</th>\n",
       "      <th>year</th>\n",
       "    </tr>\n",
       "  </thead>\n",
       "  <tbody>\n",
       "    <tr>\n",
       "      <th>0</th>\n",
       "      <td>2024-10-21 18:31:16</td>\n",
       "      <td>GdEQ-MGb7-LXHa-y6cd</td>\n",
       "      <td>Successful</td>\n",
       "      <td>1.0</td>\n",
       "      <td>919341007</td>\n",
       "      <td>FusionWave Enterprises</td>\n",
       "      <td>Active</td>\n",
       "      <td>fusionwaveenterprises@microfitsof.com</td>\n",
       "      <td>10</td>\n",
       "      <td>2024</td>\n",
       "    </tr>\n",
       "    <tr>\n",
       "      <th>1</th>\n",
       "      <td>2024-10-13 17:12:08</td>\n",
       "      <td>GdEQ-MGb7-LXHa-y6cd</td>\n",
       "      <td>Successful</td>\n",
       "      <td>1.0</td>\n",
       "      <td>919341007</td>\n",
       "      <td>FusionWave Enterprises</td>\n",
       "      <td>Active</td>\n",
       "      <td>fusionwaveenterprises@microfitsof.com</td>\n",
       "      <td>10</td>\n",
       "      <td>2024</td>\n",
       "    </tr>\n",
       "    <tr>\n",
       "      <th>2</th>\n",
       "      <td>2024-12-23 01:02:06</td>\n",
       "      <td>Rh2k-J1o7-zndZ-cOo8</td>\n",
       "      <td>Successful</td>\n",
       "      <td>1.0</td>\n",
       "      <td>198818316</td>\n",
       "      <td>QuantumLeap Inc.</td>\n",
       "      <td>Active</td>\n",
       "      <td>quantumleapinc.@gemaily.net</td>\n",
       "      <td>12</td>\n",
       "      <td>2024</td>\n",
       "    </tr>\n",
       "    <tr>\n",
       "      <th>3</th>\n",
       "      <td>2024-07-11 07:24:35</td>\n",
       "      <td>GdEQ-MGb7-LXHa-y6cd</td>\n",
       "      <td>Successful</td>\n",
       "      <td>1.0</td>\n",
       "      <td>919341007</td>\n",
       "      <td>FusionWave Enterprises</td>\n",
       "      <td>Active</td>\n",
       "      <td>fusionwaveenterprises@microfitsof.com</td>\n",
       "      <td>7</td>\n",
       "      <td>2024</td>\n",
       "    </tr>\n",
       "    <tr>\n",
       "      <th>4</th>\n",
       "      <td>2024-06-28 11:43:52</td>\n",
       "      <td>Rh2k-J1o7-zndZ-cOo8</td>\n",
       "      <td>Successful</td>\n",
       "      <td>1.0</td>\n",
       "      <td>198818316</td>\n",
       "      <td>QuantumLeap Inc.</td>\n",
       "      <td>Active</td>\n",
       "      <td>quantumleapinc.@gemaily.net</td>\n",
       "      <td>6</td>\n",
       "      <td>2024</td>\n",
       "    </tr>\n",
       "  </tbody>\n",
       "</table>\n",
       "</div>"
      ],
      "text/plain": [
       "        date_api_call          commerce_id  ask_status  is_related  \\\n",
       "0 2024-10-21 18:31:16  GdEQ-MGb7-LXHa-y6cd  Successful         1.0   \n",
       "1 2024-10-13 17:12:08  GdEQ-MGb7-LXHa-y6cd  Successful         1.0   \n",
       "2 2024-12-23 01:02:06  Rh2k-J1o7-zndZ-cOo8  Successful         1.0   \n",
       "3 2024-07-11 07:24:35  GdEQ-MGb7-LXHa-y6cd  Successful         1.0   \n",
       "4 2024-06-28 11:43:52  Rh2k-J1o7-zndZ-cOo8  Successful         1.0   \n",
       "\n",
       "   commerce_nit           commerce_name commerce_status  \\\n",
       "0     919341007  FusionWave Enterprises          Active   \n",
       "1     919341007  FusionWave Enterprises          Active   \n",
       "2     198818316        QuantumLeap Inc.          Active   \n",
       "3     919341007  FusionWave Enterprises          Active   \n",
       "4     198818316        QuantumLeap Inc.          Active   \n",
       "\n",
       "                          commerce_email  month  year  \n",
       "0  fusionwaveenterprises@microfitsof.com     10  2024  \n",
       "1  fusionwaveenterprises@microfitsof.com     10  2024  \n",
       "2            quantumleapinc.@gemaily.net     12  2024  \n",
       "3  fusionwaveenterprises@microfitsof.com      7  2024  \n",
       "4            quantumleapinc.@gemaily.net      6  2024  "
      ]
     },
     "execution_count": 26,
     "metadata": {},
     "output_type": "execute_result"
    }
   ],
   "source": [
    "merge.head()"
   ]
  },
  {
   "cell_type": "code",
   "execution_count": 27,
   "metadata": {},
   "outputs": [
    {
     "data": {
      "text/html": [
       "<div>\n",
       "<style scoped>\n",
       "    .dataframe tbody tr th:only-of-type {\n",
       "        vertical-align: middle;\n",
       "    }\n",
       "\n",
       "    .dataframe tbody tr th {\n",
       "        vertical-align: top;\n",
       "    }\n",
       "\n",
       "    .dataframe thead th {\n",
       "        text-align: right;\n",
       "    }\n",
       "</style>\n",
       "<table border=\"1\" class=\"dataframe\">\n",
       "  <thead>\n",
       "    <tr style=\"text-align: right;\">\n",
       "      <th>ask_status</th>\n",
       "      <th>Successful</th>\n",
       "      <th>Unsuccessful</th>\n",
       "    </tr>\n",
       "    <tr>\n",
       "      <th>commerce_name</th>\n",
       "      <th></th>\n",
       "      <th></th>\n",
       "    </tr>\n",
       "  </thead>\n",
       "  <tbody>\n",
       "    <tr>\n",
       "      <th>FusionWave Enterprises</th>\n",
       "      <td>239507</td>\n",
       "      <td>60145</td>\n",
       "    </tr>\n",
       "    <tr>\n",
       "      <th>Innovexa Solutions</th>\n",
       "      <td>240036</td>\n",
       "      <td>60064</td>\n",
       "    </tr>\n",
       "    <tr>\n",
       "      <th>NexaTech Industries</th>\n",
       "      <td>240385</td>\n",
       "      <td>59570</td>\n",
       "    </tr>\n",
       "    <tr>\n",
       "      <th>QuantumLeap Inc.</th>\n",
       "      <td>239976</td>\n",
       "      <td>59805</td>\n",
       "    </tr>\n",
       "    <tr>\n",
       "      <th>Zenith Corp.</th>\n",
       "      <td>240591</td>\n",
       "      <td>59921</td>\n",
       "    </tr>\n",
       "  </tbody>\n",
       "</table>\n",
       "</div>"
      ],
      "text/plain": [
       "ask_status              Successful  Unsuccessful\n",
       "commerce_name                                   \n",
       "FusionWave Enterprises      239507         60145\n",
       "Innovexa Solutions          240036         60064\n",
       "NexaTech Industries         240385         59570\n",
       "QuantumLeap Inc.            239976         59805\n",
       "Zenith Corp.                240591         59921"
      ]
     },
     "execution_count": 27,
     "metadata": {},
     "output_type": "execute_result"
    }
   ],
   "source": [
    "merge.groupby(['commerce_name', 'ask_status']).size().unstack(fill_value=0)"
   ]
  },
  {
   "cell_type": "code",
   "execution_count": 28,
   "metadata": {},
   "outputs": [
    {
     "data": {
      "text/plain": [
       "2024    1500000\n",
       "Name: year, dtype: int64"
      ]
     },
     "execution_count": 28,
     "metadata": {},
     "output_type": "execute_result"
    }
   ],
   "source": [
    "merge['year'].value_counts()"
   ]
  },
  {
   "cell_type": "code",
   "execution_count": 29,
   "metadata": {},
   "outputs": [
    {
     "data": {
      "text/plain": [
       "5     127446\n",
       "7     127088\n",
       "8     127027\n",
       "10    126978\n",
       "12    126772\n",
       "3     126709\n",
       "1     126667\n",
       "4     123300\n",
       "9     123167\n",
       "6     123062\n",
       "11    123010\n",
       "2     118774\n",
       "Name: month, dtype: int64"
      ]
     },
     "execution_count": 29,
     "metadata": {},
     "output_type": "execute_result"
    }
   ],
   "source": [
    "merge['month'].value_counts()"
   ]
  },
  {
   "cell_type": "code",
   "execution_count": 58,
   "metadata": {},
   "outputs": [],
   "source": [
    "merge_filtered = merge[(merge['month'].isin([7,8]))] #& (merge['commerce_status']=='Active')]"
   ]
  },
  {
   "cell_type": "code",
   "execution_count": 59,
   "metadata": {},
   "outputs": [
    {
     "data": {
      "text/plain": [
       "(254115, 10)"
      ]
     },
     "execution_count": 59,
     "metadata": {},
     "output_type": "execute_result"
    }
   ],
   "source": [
    "merge_filtered.shape"
   ]
  },
  {
   "cell_type": "code",
   "execution_count": 60,
   "metadata": {},
   "outputs": [
    {
     "data": {
      "text/html": [
       "<div>\n",
       "<style scoped>\n",
       "    .dataframe tbody tr th:only-of-type {\n",
       "        vertical-align: middle;\n",
       "    }\n",
       "\n",
       "    .dataframe tbody tr th {\n",
       "        vertical-align: top;\n",
       "    }\n",
       "\n",
       "    .dataframe thead th {\n",
       "        text-align: right;\n",
       "    }\n",
       "</style>\n",
       "<table border=\"1\" class=\"dataframe\">\n",
       "  <thead>\n",
       "    <tr style=\"text-align: right;\">\n",
       "      <th></th>\n",
       "      <th>month</th>\n",
       "      <th>7</th>\n",
       "      <th>8</th>\n",
       "    </tr>\n",
       "    <tr>\n",
       "      <th>commerce_name</th>\n",
       "      <th>ask_status</th>\n",
       "      <th></th>\n",
       "      <th></th>\n",
       "    </tr>\n",
       "  </thead>\n",
       "  <tbody>\n",
       "    <tr>\n",
       "      <th rowspan=\"2\" valign=\"top\">FusionWave Enterprises</th>\n",
       "      <th>Successful</th>\n",
       "      <td>20406</td>\n",
       "      <td>20262</td>\n",
       "    </tr>\n",
       "    <tr>\n",
       "      <th>Unsuccessful</th>\n",
       "      <td>5115</td>\n",
       "      <td>5117</td>\n",
       "    </tr>\n",
       "    <tr>\n",
       "      <th rowspan=\"2\" valign=\"top\">Innovexa Solutions</th>\n",
       "      <th>Successful</th>\n",
       "      <td>20244</td>\n",
       "      <td>20364</td>\n",
       "    </tr>\n",
       "    <tr>\n",
       "      <th>Unsuccessful</th>\n",
       "      <td>5002</td>\n",
       "      <td>5074</td>\n",
       "    </tr>\n",
       "    <tr>\n",
       "      <th rowspan=\"2\" valign=\"top\">NexaTech Industries</th>\n",
       "      <th>Successful</th>\n",
       "      <td>20387</td>\n",
       "      <td>20358</td>\n",
       "    </tr>\n",
       "    <tr>\n",
       "      <th>Unsuccessful</th>\n",
       "      <td>5029</td>\n",
       "      <td>5030</td>\n",
       "    </tr>\n",
       "    <tr>\n",
       "      <th rowspan=\"2\" valign=\"top\">QuantumLeap Inc.</th>\n",
       "      <th>Successful</th>\n",
       "      <td>20231</td>\n",
       "      <td>20304</td>\n",
       "    </tr>\n",
       "    <tr>\n",
       "      <th>Unsuccessful</th>\n",
       "      <td>5234</td>\n",
       "      <td>5066</td>\n",
       "    </tr>\n",
       "    <tr>\n",
       "      <th rowspan=\"2\" valign=\"top\">Zenith Corp.</th>\n",
       "      <th>Successful</th>\n",
       "      <td>20394</td>\n",
       "      <td>20414</td>\n",
       "    </tr>\n",
       "    <tr>\n",
       "      <th>Unsuccessful</th>\n",
       "      <td>5046</td>\n",
       "      <td>5038</td>\n",
       "    </tr>\n",
       "  </tbody>\n",
       "</table>\n",
       "</div>"
      ],
      "text/plain": [
       "month                                    7      8\n",
       "commerce_name          ask_status                \n",
       "FusionWave Enterprises Successful    20406  20262\n",
       "                       Unsuccessful   5115   5117\n",
       "Innovexa Solutions     Successful    20244  20364\n",
       "                       Unsuccessful   5002   5074\n",
       "NexaTech Industries    Successful    20387  20358\n",
       "                       Unsuccessful   5029   5030\n",
       "QuantumLeap Inc.       Successful    20231  20304\n",
       "                       Unsuccessful   5234   5066\n",
       "Zenith Corp.           Successful    20394  20414\n",
       "                       Unsuccessful   5046   5038"
      ]
     },
     "execution_count": 60,
     "metadata": {},
     "output_type": "execute_result"
    }
   ],
   "source": [
    "merge_filtered.groupby(['commerce_name', 'ask_status', 'month']).size().unstack(fill_value=0)"
   ]
  },
  {
   "cell_type": "code",
   "execution_count": null,
   "metadata": {},
   "outputs": [],
   "source": []
  }
 ],
 "metadata": {
  "kernelspec": {
   "display_name": "Python 3 (ipykernel)",
   "language": "python",
   "name": "python3"
  },
  "language_info": {
   "codemirror_mode": {
    "name": "ipython",
    "version": 3
   },
   "file_extension": ".py",
   "mimetype": "text/x-python",
   "name": "python",
   "nbconvert_exporter": "python",
   "pygments_lexer": "ipython3",
   "version": "3.10.11"
  }
 },
 "nbformat": 4,
 "nbformat_minor": 4
}
